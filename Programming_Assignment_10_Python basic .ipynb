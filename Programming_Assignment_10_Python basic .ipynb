{
 "cells": [
  {
   "cell_type": "code",
   "execution_count": 60,
   "id": "28c91f7f",
   "metadata": {},
   "outputs": [],
   "source": [
    "#1.\n",
    "\n",
    "def sum_element_list(x):\n",
    "    sum = 0\n",
    "    for i in range(len(x)):\n",
    "        sum = sum + x[i]\n",
    "    return sum"
   ]
  },
  {
   "cell_type": "code",
   "execution_count": 61,
   "id": "c10b10dc",
   "metadata": {},
   "outputs": [],
   "source": [
    "#2.\n",
    "\n",
    "def mul_element_list(x):\n",
    "    mult = 1\n",
    "    for i in range(1,len(x)+1):\n",
    "        mult= mult * i\n",
    "        \n",
    "    return mult"
   ]
  },
  {
   "cell_type": "code",
   "execution_count": 62,
   "id": "b5e842a9",
   "metadata": {},
   "outputs": [],
   "source": [
    "#3.\n",
    "def smallest_element_list(x):\n",
    "    small_elem = x[0]\n",
    "    for i in range(len(x)):\n",
    "        if small_elem >= x[i]:\n",
    "            small_elem=x[i]\n",
    "        else:\n",
    "            pass\n",
    "    return small_elem"
   ]
  },
  {
   "cell_type": "code",
   "execution_count": 63,
   "id": "ab6a8ccc",
   "metadata": {},
   "outputs": [],
   "source": [
    "#4.\n",
    "\n",
    "def largest_element_list(x):\n",
    "    large_elem = x[0]\n",
    "    for i in range(len(x)):\n",
    "        if large_elem <= x[i]:\n",
    "            large_elem=x[i]\n",
    "        else:\n",
    "            pass\n",
    "    return large_elem"
   ]
  },
  {
   "cell_type": "code",
   "execution_count": 64,
   "id": "7fc79d1d",
   "metadata": {},
   "outputs": [],
   "source": [
    "#5.\n",
    "\n",
    "def sec_largest_elemet_list(x):\n",
    "    largest_ele = x[0]\n",
    "    for i in range(len(x)):\n",
    "        if x[i]>= largest_ele:\n",
    "            largest_ele = x[i]\n",
    "    x.remove(largest_ele)\n",
    "    sec_largest_ele = x[0]\n",
    "    for j in range(len(x)):\n",
    "        if x[j] >= sec_largest_ele:\n",
    "            sec_largest_ele =x[j]\n",
    "    return sec_largest_ele\n",
    "            \n"
   ]
  },
  {
   "cell_type": "code",
   "execution_count": 65,
   "id": "cbfeba7a",
   "metadata": {},
   "outputs": [],
   "source": [
    "#6.\n",
    "\n",
    "def n_largest_ele_list(x,N):\n",
    "    largest_n_ele = []\n",
    "    for j in range(0,N):\n",
    "        \n",
    "        largest_ele = x[0]\n",
    "        \n",
    "        for i in range(len(x)):\n",
    "            if x[i]>= largest_ele:\n",
    "                largest_ele = x[i]\n",
    "        x.remove(largest_ele)\n",
    "        largest_n_ele.append(largest_ele)\n",
    "    return largest_n_ele\n",
    "    \n",
    "        "
   ]
  },
  {
   "cell_type": "code",
   "execution_count": 66,
   "id": "e9550711",
   "metadata": {},
   "outputs": [],
   "source": [
    "#7.\n",
    "\n",
    "def even_ele_list(n):\n",
    "    \n",
    "    for i in range(len(n)):\n",
    "        if n[i] % 2 ==0:\n",
    "            print(n[i])\n",
    "        else:\n",
    "            pass"
   ]
  },
  {
   "cell_type": "code",
   "execution_count": 67,
   "id": "b875f1c1",
   "metadata": {},
   "outputs": [],
   "source": [
    "#8.\n",
    "\n",
    "def odd_ele_list(n):\n",
    "    \n",
    "    for i in range(len(n)):\n",
    "        if n[i] % 2 !=0:\n",
    "            print(n[i])\n",
    "        else:\n",
    "            pass"
   ]
  },
  {
   "cell_type": "code",
   "execution_count": 68,
   "id": "c68069b6",
   "metadata": {},
   "outputs": [],
   "source": [
    "#9.\n",
    "\n",
    "def emp_listele_list(n):\n",
    "    ept_list = []\n",
    "    for j in range(len(n)):\n",
    "        if type(n[j])==list:\n",
    "            if len(n[j]) == 0:\n",
    "                ept_list.append(n[j])\n",
    "                \n",
    "            else:\n",
    "                pass\n",
    "        else:\n",
    "            pass\n",
    "    for i in range(len(ept_list)):\n",
    "        n.remove(ept_list[i])\n",
    "    return n"
   ]
  },
  {
   "cell_type": "code",
   "execution_count": 69,
   "id": "269924e7",
   "metadata": {},
   "outputs": [],
   "source": [
    "#10.\n",
    "\n",
    "def clon_list(x):\n",
    "    clon_list = []\n",
    "    for i in range(len(x)):\n",
    "        clon_list.append(x[i])\n",
    "        \n",
    "    return \"clon list is\",clon_list"
   ]
  },
  {
   "cell_type": "code",
   "execution_count": 71,
   "id": "1b649749",
   "metadata": {},
   "outputs": [],
   "source": [
    "#11.\n",
    "\n",
    "def count_ele_list(x,y):\n",
    "    a=0\n",
    "    for i in range(len(x)):\n",
    "        if x[i]==y:\n",
    "            a = a+1\n",
    "    print(a)\n",
    "    "
   ]
  }
 ],
 "metadata": {
  "kernelspec": {
   "display_name": "Python 3 (ipykernel)",
   "language": "python",
   "name": "python3"
  },
  "language_info": {
   "codemirror_mode": {
    "name": "ipython",
    "version": 3
   },
   "file_extension": ".py",
   "mimetype": "text/x-python",
   "name": "python",
   "nbconvert_exporter": "python",
   "pygments_lexer": "ipython3",
   "version": "3.9.7"
  }
 },
 "nbformat": 4,
 "nbformat_minor": 5
}
